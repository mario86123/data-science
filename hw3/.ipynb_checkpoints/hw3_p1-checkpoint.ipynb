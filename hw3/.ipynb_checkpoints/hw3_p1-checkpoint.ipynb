{
 "cells": [
  {
   "cell_type": "code",
   "execution_count": 1,
   "metadata": {},
   "outputs": [
    {
     "name": "stdout",
     "output_type": "stream",
     "text": [
      "[ 118  166  176  262  305  316  356  806  877 1809]\n"
     ]
    }
   ],
   "source": [
    "import numpy as np\n",
    "from sklearn.feature_selection import SelectKBest, chi2\n",
    "\n",
    "with open('hw3_Data1/gene.txt', 'r') as f:\n",
    "    content = f.read()\n",
    "    gene = np.array(content.split()).astype(float).reshape((2000,62)).T\n",
    "    \n",
    "with open('hw3_Data1/index.txt', 'r') as f:\n",
    "    index = f.read().splitlines()\n",
    "    del index[-1]\n",
    "    \n",
    "with open('hw3_Data1/label.txt', 'r') as f:\n",
    "    content = f.read()\n",
    "    label = np.array(content.split()).astype(int)\n",
    "    \n",
    "model = SelectKBest(chi2).fit(gene, label)\n",
    "print(model.get_support(indices=True))"
   ]
  },
  {
   "cell_type": "code",
   "execution_count": null,
   "metadata": {},
   "outputs": [],
   "source": []
  }
 ],
 "metadata": {
  "kernelspec": {
   "display_name": "Python 3",
   "language": "python",
   "name": "python3"
  },
  "language_info": {
   "codemirror_mode": {
    "name": "ipython",
    "version": 3
   },
   "file_extension": ".py",
   "mimetype": "text/x-python",
   "name": "python",
   "nbconvert_exporter": "python",
   "pygments_lexer": "ipython3",
   "version": "3.7.4"
  }
 },
 "nbformat": 4,
 "nbformat_minor": 2
}
