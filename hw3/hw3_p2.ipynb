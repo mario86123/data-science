{
 "cells": [
  {
   "cell_type": "code",
   "execution_count": 1,
   "metadata": {},
   "outputs": [
    {
     "name": "stdout",
     "output_type": "stream",
     "text": [
      "['Hsa.467']\n",
      "['Hsa.749']\n",
      "['Hsa.1272']\n",
      "['Hsa.6617']\n",
      "['Hsa.166']\n",
      "['Hsa.2904']\n",
      "['Hsa.42826']\n",
      "['Hsa.3024']\n",
      "['Hsa.2918']\n"
     ]
    }
   ],
   "source": [
    "from genetic_selection import GeneticSelectionCV\n",
    "from sklearn import linear_model\n",
    "import numpy as np\n",
    "\n",
    "with open('hw3_Data1/gene.txt', 'r') as f:\n",
    "    content = f.read()\n",
    "    gene = np.array(content.split()).astype(float).reshape((2000,62)).T\n",
    "    \n",
    "with open('hw3_Data1/index.txt', 'r') as f:\n",
    "    index = f.read().splitlines()\n",
    "    del index[-1]\n",
    "    \n",
    "with open('hw3_Data1/label.txt', 'r') as f:\n",
    "    content = f.read()\n",
    "    label = np.array(content.split()).astype(int)\n",
    "    label = [int(i > 0) for i in label]\n",
    "\n",
    "estimator = linear_model.LogisticRegression(solver=\"liblinear\", multi_class=\"ovr\")\n",
    "selector = GeneticSelectionCV(estimator,\n",
    "                              cv=5,\n",
    "                              verbose=0,\n",
    "                              scoring=\"accuracy\",\n",
    "                              max_features=10,\n",
    "                              n_population=50,\n",
    "                              crossover_proba=0.5,\n",
    "                              mutation_proba=0.2,\n",
    "                              n_generations=40,\n",
    "                              crossover_independent_proba=0.5,\n",
    "                              mutation_independent_proba=0.05,\n",
    "                              tournament_size=3,\n",
    "                              n_gen_no_change=10,\n",
    "                              caching=True,\n",
    "                              n_jobs=-1)\n",
    "selector = selector.fit(gene, label)\n",
    "\n",
    "for i in range(len(selector.support_)):\n",
    "    if selector.support_[i] == True:\n",
    "        print([index[i].split()[0]])"
   ]
  },
  {
   "cell_type": "code",
   "execution_count": null,
   "metadata": {},
   "outputs": [],
   "source": []
  }
 ],
 "metadata": {
  "kernelspec": {
   "display_name": "Python 3",
   "language": "python",
   "name": "python3"
  },
  "language_info": {
   "codemirror_mode": {
    "name": "ipython",
    "version": 3
   },
   "file_extension": ".py",
   "mimetype": "text/x-python",
   "name": "python",
   "nbconvert_exporter": "python",
   "pygments_lexer": "ipython3",
   "version": "3.7.4"
  }
 },
 "nbformat": 4,
 "nbformat_minor": 2
}
