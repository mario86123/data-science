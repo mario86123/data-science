{
 "cells": [
  {
   "cell_type": "code",
   "execution_count": 16,
   "metadata": {},
   "outputs": [
    {
     "name": "stdout",
     "output_type": "stream",
     "text": [
      "['Hsa.4689']\n",
      "['Hsa.1130']\n",
      "['Hsa.692']\n",
      "['Hsa.8147']\n",
      "['Hsa.692']\n",
      "['Hsa.1221']\n",
      "['Hsa.692']\n",
      "['Hsa.1131']\n",
      "['Hsa.140']\n",
      "['Hsa.1832']\n"
     ]
    }
   ],
   "source": [
    "import numpy as np\n",
    "from sklearn.feature_selection import SelectKBest, chi2\n",
    "\n",
    "with open('hw3_Data1/gene.txt', 'r') as f:\n",
    "    content = f.read()\n",
    "    gene = np.array(content.split()).astype(float).reshape((2000,62)).T\n",
    "    \n",
    "with open('hw3_Data1/index.txt', 'r') as f:\n",
    "    index = f.read().splitlines()\n",
    "    del index[-1]\n",
    "    \n",
    "with open('hw3_Data1/label.txt', 'r') as f:\n",
    "    content = f.read()\n",
    "    label = np.array(content.split()).astype(int)\n",
    "    label = [1 if i > 0 else -1 for i in label]\n",
    "    \n",
    "model = SelectKBest(chi2).fit(gene, label)\n",
    "for i in model.get_support(indices=True):\n",
    "    print([index[i].split()[0]])\n",
    "# print([index[i].split()[0:2] for i in model.get_support(indices=True)])"
   ]
  },
  {
   "cell_type": "code",
   "execution_count": null,
   "metadata": {},
   "outputs": [],
   "source": []
  }
 ],
 "metadata": {
  "kernelspec": {
   "display_name": "Python 3",
   "language": "python",
   "name": "python3"
  },
  "language_info": {
   "codemirror_mode": {
    "name": "ipython",
    "version": 3
   },
   "file_extension": ".py",
   "mimetype": "text/x-python",
   "name": "python",
   "nbconvert_exporter": "python",
   "pygments_lexer": "ipython3",
   "version": "3.7.4"
  }
 },
 "nbformat": 4,
 "nbformat_minor": 2
}
